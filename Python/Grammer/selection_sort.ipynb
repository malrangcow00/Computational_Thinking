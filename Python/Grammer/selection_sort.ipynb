{
 "cells": [
  {
   "cell_type": "code",
   "execution_count": null,
   "id": "initial_id",
   "metadata": {
    "collapsed": true
   },
   "outputs": [],
   "source": [
    "temp = 0\n",
    "min_index = 0\n",
    "a = [4, 2, 3, 5, 1]\n",
    "# 정렬되지 않은 곳을 시작 위치로 설정\n",
    "for i in range(0, 4):\n",
    "    min_index = i\n",
    "    # 정렬되지 않은 값 중 최솟값을 찾는다\n",
    "    for j in range(i+1, 5):\n",
    "        if a[min_index] > a[j]:\n",
    "            min_index = j\n",
    "    # 최솟값이 있는 인덱스와 정렬된 배열의 다음 요소를 교환\n",
    "    temp = a[min_index]\n",
    "    a[min_index] = a[i]\n",
    "    a[i] = temp\n",
    "print(a)    "
   ]
  }
 ],
 "metadata": {
  "kernelspec": {
   "display_name": "Python 3",
   "language": "python",
   "name": "python3"
  },
  "language_info": {
   "codemirror_mode": {
    "name": "ipython",
    "version": 2
   },
   "file_extension": ".py",
   "mimetype": "text/x-python",
   "name": "python",
   "nbconvert_exporter": "python",
   "pygments_lexer": "ipython2",
   "version": "2.7.6"
  }
 },
 "nbformat": 4,
 "nbformat_minor": 5
}
